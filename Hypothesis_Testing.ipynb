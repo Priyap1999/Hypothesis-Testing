{
 "cells": [
  {
   "cell_type": "markdown",
   "id": "4d48b371",
   "metadata": {},
   "source": [
    "# Assignment-3(Hypothesis Testing)\n",
    "Q.1) A F&B manager wants to determine whether there is any significant difference in the diameter of the cutlet between two units. A randomly selected sample of cutlets was collected from both units and measured? Analyze the data and draw inferences at 5% significance level. Please state the assumptions and tests that you carried out to check validity of the assumptions.\n",
    "Solution: \n",
    "Step 1 - \n",
    "H0: there is no change in diameter\n",
    "Ha:there is change in diameter\n",
    "if p-value is > 0.05 = Accept null hypothesis\n",
    "if p-value is < 0.05 = Reject null hypothesis\n",
    "Alternate hypothesis is used when we take action or p-value is less than 0.05\n",
    "Step 2 - Identify test statistic used for testing the validity of null hypothesis - t test\n",
    "Step 3 - Decide Significance value(alpha)=0.05\n",
    "Step 4 - Calculate p value = 0.472\n",
    "Step 5 - Compare p_value with α = 0.05 (At 5% significance level)"
   ]
  },
  {
   "cell_type": "code",
   "execution_count": 213,
   "id": "ee1af02d",
   "metadata": {},
   "outputs": [],
   "source": [
    "import numpy as np\n",
    "from scipy import stats\n",
    "import pandas as pd"
   ]
  },
  {
   "cell_type": "code",
   "execution_count": 214,
   "id": "be310f04",
   "metadata": {},
   "outputs": [],
   "source": [
    "data = pd.read_csv(\"Cutlets.csv\")"
   ]
  },
  {
   "cell_type": "code",
   "execution_count": 215,
   "id": "8cc368df",
   "metadata": {},
   "outputs": [
    {
     "data": {
      "text/html": [
       "<div>\n",
       "<style scoped>\n",
       "    .dataframe tbody tr th:only-of-type {\n",
       "        vertical-align: middle;\n",
       "    }\n",
       "\n",
       "    .dataframe tbody tr th {\n",
       "        vertical-align: top;\n",
       "    }\n",
       "\n",
       "    .dataframe thead th {\n",
       "        text-align: right;\n",
       "    }\n",
       "</style>\n",
       "<table border=\"1\" class=\"dataframe\">\n",
       "  <thead>\n",
       "    <tr style=\"text-align: right;\">\n",
       "      <th></th>\n",
       "      <th>Unit A</th>\n",
       "      <th>Unit B</th>\n",
       "    </tr>\n",
       "  </thead>\n",
       "  <tbody>\n",
       "    <tr>\n",
       "      <th>0</th>\n",
       "      <td>6.8090</td>\n",
       "      <td>6.7703</td>\n",
       "    </tr>\n",
       "    <tr>\n",
       "      <th>1</th>\n",
       "      <td>6.4376</td>\n",
       "      <td>7.5093</td>\n",
       "    </tr>\n",
       "    <tr>\n",
       "      <th>2</th>\n",
       "      <td>6.9157</td>\n",
       "      <td>6.7300</td>\n",
       "    </tr>\n",
       "    <tr>\n",
       "      <th>3</th>\n",
       "      <td>7.3012</td>\n",
       "      <td>6.7878</td>\n",
       "    </tr>\n",
       "    <tr>\n",
       "      <th>4</th>\n",
       "      <td>7.4488</td>\n",
       "      <td>7.1522</td>\n",
       "    </tr>\n",
       "  </tbody>\n",
       "</table>\n",
       "</div>"
      ],
      "text/plain": [
       "   Unit A  Unit B\n",
       "0  6.8090  6.7703\n",
       "1  6.4376  7.5093\n",
       "2  6.9157  6.7300\n",
       "3  7.3012  6.7878\n",
       "4  7.4488  7.1522"
      ]
     },
     "execution_count": 215,
     "metadata": {},
     "output_type": "execute_result"
    }
   ],
   "source": [
    "data.head()"
   ]
  },
  {
   "cell_type": "code",
   "execution_count": 216,
   "id": "f8b34c28",
   "metadata": {},
   "outputs": [
    {
     "data": {
      "text/html": [
       "<div>\n",
       "<style scoped>\n",
       "    .dataframe tbody tr th:only-of-type {\n",
       "        vertical-align: middle;\n",
       "    }\n",
       "\n",
       "    .dataframe tbody tr th {\n",
       "        vertical-align: top;\n",
       "    }\n",
       "\n",
       "    .dataframe thead th {\n",
       "        text-align: right;\n",
       "    }\n",
       "</style>\n",
       "<table border=\"1\" class=\"dataframe\">\n",
       "  <thead>\n",
       "    <tr style=\"text-align: right;\">\n",
       "      <th></th>\n",
       "      <th>Unit A</th>\n",
       "      <th>Unit B</th>\n",
       "    </tr>\n",
       "  </thead>\n",
       "  <tbody>\n",
       "    <tr>\n",
       "      <th>30</th>\n",
       "      <td>6.7794</td>\n",
       "      <td>7.0992</td>\n",
       "    </tr>\n",
       "    <tr>\n",
       "      <th>31</th>\n",
       "      <td>7.2783</td>\n",
       "      <td>7.1180</td>\n",
       "    </tr>\n",
       "    <tr>\n",
       "      <th>32</th>\n",
       "      <td>7.1561</td>\n",
       "      <td>6.6965</td>\n",
       "    </tr>\n",
       "    <tr>\n",
       "      <th>33</th>\n",
       "      <td>7.3943</td>\n",
       "      <td>6.5780</td>\n",
       "    </tr>\n",
       "    <tr>\n",
       "      <th>34</th>\n",
       "      <td>6.9405</td>\n",
       "      <td>7.3875</td>\n",
       "    </tr>\n",
       "  </tbody>\n",
       "</table>\n",
       "</div>"
      ],
      "text/plain": [
       "    Unit A  Unit B\n",
       "30  6.7794  7.0992\n",
       "31  7.2783  7.1180\n",
       "32  7.1561  6.6965\n",
       "33  7.3943  6.5780\n",
       "34  6.9405  7.3875"
      ]
     },
     "execution_count": 216,
     "metadata": {},
     "output_type": "execute_result"
    }
   ],
   "source": [
    "data.tail()"
   ]
  },
  {
   "cell_type": "code",
   "execution_count": 217,
   "id": "dba53ab0",
   "metadata": {},
   "outputs": [
    {
     "data": {
      "text/plain": [
       "7.01909142857143"
      ]
     },
     "execution_count": 217,
     "metadata": {},
     "output_type": "execute_result"
    }
   ],
   "source": [
    "Unit_A=data['Unit A'].mean()\n",
    "Unit_A"
   ]
  },
  {
   "cell_type": "code",
   "execution_count": 218,
   "id": "985bb69d",
   "metadata": {},
   "outputs": [
    {
     "data": {
      "text/plain": [
       "6.964297142857142"
      ]
     },
     "execution_count": 218,
     "metadata": {},
     "output_type": "execute_result"
    }
   ],
   "source": [
    "Unit_B=data['Unit B'].mean()\n",
    "Unit_B"
   ]
  },
  {
   "cell_type": "code",
   "execution_count": 219,
   "id": "391dee62",
   "metadata": {},
   "outputs": [
    {
     "name": "stdout",
     "output_type": "stream",
     "text": [
      "Unit A Mean > Unit B Mean =  True\n"
     ]
    }
   ],
   "source": [
    "print('Unit A Mean > Unit B Mean = ',Unit_A>Unit_B)"
   ]
  },
  {
   "cell_type": "code",
   "execution_count": 220,
   "id": "ebde7e03",
   "metadata": {},
   "outputs": [],
   "source": [
    "UA=data['Unit A']"
   ]
  },
  {
   "cell_type": "code",
   "execution_count": 221,
   "id": "46f1c1cc",
   "metadata": {},
   "outputs": [
    {
     "data": {
      "text/plain": [
       "0     6.8090\n",
       "1     6.4376\n",
       "2     6.9157\n",
       "3     7.3012\n",
       "4     7.4488\n",
       "5     7.3871\n",
       "6     6.8755\n",
       "7     7.0621\n",
       "8     6.6840\n",
       "9     6.8236\n",
       "10    7.3930\n",
       "11    7.5169\n",
       "12    6.9246\n",
       "13    6.9256\n",
       "14    6.5797\n",
       "15    6.8394\n",
       "16    6.5970\n",
       "17    7.2705\n",
       "18    7.2828\n",
       "19    7.3495\n",
       "20    6.9438\n",
       "21    7.1560\n",
       "22    6.5341\n",
       "23    7.2854\n",
       "24    6.9952\n",
       "25    6.8568\n",
       "26    7.2163\n",
       "27    6.6801\n",
       "28    6.9431\n",
       "29    7.0852\n",
       "30    6.7794\n",
       "31    7.2783\n",
       "32    7.1561\n",
       "33    7.3943\n",
       "34    6.9405\n",
       "Name: Unit A, dtype: float64"
      ]
     },
     "execution_count": 221,
     "metadata": {},
     "output_type": "execute_result"
    }
   ],
   "source": [
    "UA"
   ]
  },
  {
   "cell_type": "code",
   "execution_count": 222,
   "id": "b07997f7",
   "metadata": {},
   "outputs": [],
   "source": [
    "UB=data['Unit B']"
   ]
  },
  {
   "cell_type": "code",
   "execution_count": 223,
   "id": "f4949aaa",
   "metadata": {},
   "outputs": [
    {
     "data": {
      "text/plain": [
       "0     6.7703\n",
       "1     7.5093\n",
       "2     6.7300\n",
       "3     6.7878\n",
       "4     7.1522\n",
       "5     6.8110\n",
       "6     7.2212\n",
       "7     6.6606\n",
       "8     7.2402\n",
       "9     7.0503\n",
       "10    6.8810\n",
       "11    7.4059\n",
       "12    6.7652\n",
       "13    6.0380\n",
       "14    7.1581\n",
       "15    7.0240\n",
       "16    6.6672\n",
       "17    7.4314\n",
       "18    7.3070\n",
       "19    6.7478\n",
       "20    6.8889\n",
       "21    7.4220\n",
       "22    6.5217\n",
       "23    7.1688\n",
       "24    6.7594\n",
       "25    6.9399\n",
       "26    7.0133\n",
       "27    6.9182\n",
       "28    6.3346\n",
       "29    7.5459\n",
       "30    7.0992\n",
       "31    7.1180\n",
       "32    6.6965\n",
       "33    6.5780\n",
       "34    7.3875\n",
       "Name: Unit B, dtype: float64"
      ]
     },
     "execution_count": 223,
     "metadata": {},
     "output_type": "execute_result"
    }
   ],
   "source": [
    "UB"
   ]
  },
  {
   "cell_type": "code",
   "execution_count": 224,
   "id": "83be4646",
   "metadata": {},
   "outputs": [
    {
     "data": {
      "text/plain": [
       "Ttest_indResult(statistic=0.7228688704678063, pvalue=0.4722394724599501)"
      ]
     },
     "execution_count": 224,
     "metadata": {},
     "output_type": "execute_result"
    }
   ],
   "source": [
    "stats.ttest_ind( UA,UB)"
   ]
  },
  {
   "cell_type": "code",
   "execution_count": 225,
   "id": "bfe7ab21",
   "metadata": {},
   "outputs": [
    {
     "data": {
      "text/plain": [
       "0.4722394724599501"
      ]
     },
     "execution_count": 225,
     "metadata": {},
     "output_type": "execute_result"
    }
   ],
   "source": [
    "# 2-sample 2-tail ttest:\n",
    "p_value=stats.ttest_ind( UA,UB)[1]\n",
    "p_value                               # 2-tail probability "
   ]
  },
  {
   "cell_type": "code",
   "execution_count": 226,
   "id": "5c27d864",
   "metadata": {},
   "outputs": [
    {
     "name": "stdout",
     "output_type": "stream",
     "text": [
      "Accept null hypothesis\n"
     ]
    }
   ],
   "source": [
    "# compare p_value with α = 0.05 (At 5% significance level)\n",
    "if p_value < 0.05:\n",
    "  print('Reject null hypothesis')\n",
    "else:\n",
    "  print('Accept null hypothesis')"
   ]
  },
  {
   "cell_type": "markdown",
   "id": "57cf53b3",
   "metadata": {},
   "source": [
    "Inference - There is no significant difference in the diameters of both Unit A and Unit B."
   ]
  },
  {
   "cell_type": "markdown",
   "id": "c45f512f",
   "metadata": {},
   "source": [
    "Q.2) A hospital wants to determine whether there is any difference in the average Turn Around Time (TAT) of reports of the laboratories on their preferred list. They collected a random sample and recorded TAT for reports of 4 laboratories. TAT is defined as sample collected to report dispatch. \n",
    "Analyze the data and determine whether there is any difference in average TAT among the different laboratories at 5% significance level.\n"
   ]
  },
  {
   "cell_type": "markdown",
   "id": "bd0a6ebb",
   "metadata": {},
   "source": [
    "Hypothesis:\n",
    "\n",
    "There are no significant differences between the groups' mean Lab values.\n",
    "H0:μ1=μ2=μ3=μ4=μ5\n",
    "    \n",
    "There is a significant difference between the groups' mean Lab values.\n",
    "H1:μ1≠μ2≠μ3≠μ4"
   ]
  },
  {
   "cell_type": "code",
   "execution_count": 227,
   "id": "06649e08",
   "metadata": {},
   "outputs": [
    {
     "data": {
      "text/html": [
       "<div>\n",
       "<style scoped>\n",
       "    .dataframe tbody tr th:only-of-type {\n",
       "        vertical-align: middle;\n",
       "    }\n",
       "\n",
       "    .dataframe tbody tr th {\n",
       "        vertical-align: top;\n",
       "    }\n",
       "\n",
       "    .dataframe thead th {\n",
       "        text-align: right;\n",
       "    }\n",
       "</style>\n",
       "<table border=\"1\" class=\"dataframe\">\n",
       "  <thead>\n",
       "    <tr style=\"text-align: right;\">\n",
       "      <th></th>\n",
       "      <th>Laboratory 1</th>\n",
       "      <th>Laboratory 2</th>\n",
       "      <th>Laboratory 3</th>\n",
       "      <th>Laboratory 4</th>\n",
       "    </tr>\n",
       "  </thead>\n",
       "  <tbody>\n",
       "    <tr>\n",
       "      <th>0</th>\n",
       "      <td>185.35</td>\n",
       "      <td>165.53</td>\n",
       "      <td>176.70</td>\n",
       "      <td>166.13</td>\n",
       "    </tr>\n",
       "    <tr>\n",
       "      <th>1</th>\n",
       "      <td>170.49</td>\n",
       "      <td>185.91</td>\n",
       "      <td>198.45</td>\n",
       "      <td>160.79</td>\n",
       "    </tr>\n",
       "    <tr>\n",
       "      <th>2</th>\n",
       "      <td>192.77</td>\n",
       "      <td>194.92</td>\n",
       "      <td>201.23</td>\n",
       "      <td>185.18</td>\n",
       "    </tr>\n",
       "    <tr>\n",
       "      <th>3</th>\n",
       "      <td>177.33</td>\n",
       "      <td>183.00</td>\n",
       "      <td>199.61</td>\n",
       "      <td>176.42</td>\n",
       "    </tr>\n",
       "    <tr>\n",
       "      <th>4</th>\n",
       "      <td>193.41</td>\n",
       "      <td>169.57</td>\n",
       "      <td>204.63</td>\n",
       "      <td>152.60</td>\n",
       "    </tr>\n",
       "  </tbody>\n",
       "</table>\n",
       "</div>"
      ],
      "text/plain": [
       "   Laboratory 1  Laboratory 2  Laboratory 3  Laboratory 4\n",
       "0        185.35        165.53        176.70        166.13\n",
       "1        170.49        185.91        198.45        160.79\n",
       "2        192.77        194.92        201.23        185.18\n",
       "3        177.33        183.00        199.61        176.42\n",
       "4        193.41        169.57        204.63        152.60"
      ]
     },
     "execution_count": 227,
     "metadata": {},
     "output_type": "execute_result"
    }
   ],
   "source": [
    "data1=pd.read_csv('LabTAT.csv')\n",
    "data1.head()"
   ]
  },
  {
   "cell_type": "code",
   "execution_count": 228,
   "id": "fac6d4ba",
   "metadata": {},
   "outputs": [
    {
     "data": {
      "text/plain": [
       "178.36158333333339"
      ]
     },
     "execution_count": 228,
     "metadata": {},
     "output_type": "execute_result"
    }
   ],
   "source": [
    "Lab_1=data1['Laboratory 1'].mean()\n",
    "Lab_1"
   ]
  },
  {
   "cell_type": "code",
   "execution_count": 229,
   "id": "419f12fe",
   "metadata": {},
   "outputs": [
    {
     "data": {
      "text/plain": [
       "178.9029166666668"
      ]
     },
     "execution_count": 229,
     "metadata": {},
     "output_type": "execute_result"
    }
   ],
   "source": [
    "Lab_2=data1['Laboratory 2'].mean()\n",
    "Lab_2"
   ]
  },
  {
   "cell_type": "code",
   "execution_count": 230,
   "id": "b988e708",
   "metadata": {},
   "outputs": [
    {
     "data": {
      "text/plain": [
       "199.91325000000003"
      ]
     },
     "execution_count": 230,
     "metadata": {},
     "output_type": "execute_result"
    }
   ],
   "source": [
    "Lab_3=data1['Laboratory 3'].mean()\n",
    "Lab_3"
   ]
  },
  {
   "cell_type": "code",
   "execution_count": 231,
   "id": "d36dfbc8",
   "metadata": {},
   "outputs": [
    {
     "data": {
      "text/plain": [
       "163.6827499999999"
      ]
     },
     "execution_count": 231,
     "metadata": {},
     "output_type": "execute_result"
    }
   ],
   "source": [
    "Lab_4=data1['Laboratory 4'].mean()\n",
    "Lab_4"
   ]
  },
  {
   "cell_type": "code",
   "execution_count": 232,
   "id": "fd8ce982",
   "metadata": {},
   "outputs": [
    {
     "data": {
      "text/plain": [
       "F_onewayResult(statistic=118.70421654401437, pvalue=2.1156708949992414e-57)"
      ]
     },
     "execution_count": 232,
     "metadata": {},
     "output_type": "execute_result"
    }
   ],
   "source": [
    "import scipy.stats as stats\n",
    "p_value1=stats.f_oneway(data1.iloc[:,0], data1.iloc[:,1],data1.iloc[:,2],data1.iloc[:,3])\n",
    "p_value1"
   ]
  },
  {
   "cell_type": "code",
   "execution_count": 233,
   "id": "2bef526c",
   "metadata": {},
   "outputs": [
    {
     "data": {
      "text/plain": [
       "F_onewayResult(statistic=118.70421654401437, pvalue=2.1156708949992414e-57)"
      ]
     },
     "execution_count": 233,
     "metadata": {},
     "output_type": "execute_result"
    }
   ],
   "source": [
    "p_value1"
   ]
  },
  {
   "cell_type": "markdown",
   "id": "626e6994",
   "metadata": {},
   "source": [
    "Compare p_value1 with alpha=0.05\n",
    "P_value is 0.00 < 0.05= Accept H1, hence Average of at least 1 laboratory are different."
   ]
  },
  {
   "attachments": {},
   "cell_type": "markdown",
   "id": "69a5782d",
   "metadata": {},
   "source": [
    "Q.3)  Sales of products in four different regions is tabulated for males and females. Find if male-female buyer rations are similar across regions.\n",
    "\t   East\t West North\tSouth\n",
    "Males\t50\t 142\t131\t 70\n",
    "Females\t550\t 351\t480\t 350\n",
    "H0  : All proportions are equal\n",
    "H1  : Not all Proportions are equal\n",
    "1. Check p-value\n",
    "2. If p-Value < alpha, we reject Null Hypothesis"
   ]
  },
  {
   "cell_type": "code",
   "execution_count": 234,
   "id": "1740a4a1",
   "metadata": {},
   "outputs": [
    {
     "data": {
      "text/html": [
       "<div>\n",
       "<style scoped>\n",
       "    .dataframe tbody tr th:only-of-type {\n",
       "        vertical-align: middle;\n",
       "    }\n",
       "\n",
       "    .dataframe tbody tr th {\n",
       "        vertical-align: top;\n",
       "    }\n",
       "\n",
       "    .dataframe thead th {\n",
       "        text-align: right;\n",
       "    }\n",
       "</style>\n",
       "<table border=\"1\" class=\"dataframe\">\n",
       "  <thead>\n",
       "    <tr style=\"text-align: right;\">\n",
       "      <th></th>\n",
       "      <th>Observed Values</th>\n",
       "      <th>East</th>\n",
       "      <th>West</th>\n",
       "      <th>North</th>\n",
       "      <th>South</th>\n",
       "    </tr>\n",
       "  </thead>\n",
       "  <tbody>\n",
       "    <tr>\n",
       "      <th>0</th>\n",
       "      <td>Males</td>\n",
       "      <td>50</td>\n",
       "      <td>142</td>\n",
       "      <td>131</td>\n",
       "      <td>70</td>\n",
       "    </tr>\n",
       "    <tr>\n",
       "      <th>1</th>\n",
       "      <td>Females</td>\n",
       "      <td>435</td>\n",
       "      <td>1523</td>\n",
       "      <td>1356</td>\n",
       "      <td>750</td>\n",
       "    </tr>\n",
       "  </tbody>\n",
       "</table>\n",
       "</div>"
      ],
      "text/plain": [
       "  Observed Values  East  West  North  South\n",
       "0           Males    50   142    131     70\n",
       "1         Females   435  1523   1356    750"
      ]
     },
     "execution_count": 234,
     "metadata": {},
     "output_type": "execute_result"
    }
   ],
   "source": [
    "data2=pd.read_csv('BuyerRatio.csv')\n",
    "data2.head()"
   ]
  },
  {
   "cell_type": "code",
   "execution_count": 235,
   "id": "4d96ecb7",
   "metadata": {},
   "outputs": [
    {
     "name": "stdout",
     "output_type": "stream",
     "text": [
      "[[50, 142, 131, 70], [435, 1523, 1356, 750]]\n"
     ]
    }
   ],
   "source": [
    "Male = [50,142,131,70]\n",
    "Female=[435,1523,1356,750]\n",
    "Sales=[Male,Female]\n",
    "print(Sales)"
   ]
  },
  {
   "cell_type": "code",
   "execution_count": 236,
   "id": "9239d103",
   "metadata": {},
   "outputs": [
    {
     "name": "stdout",
     "output_type": "stream",
     "text": [
      "Test t=1.595946 p-value=0.660309\n"
     ]
    }
   ],
   "source": [
    "chiStats = sp.stats.chi2_contingency(Sales)\n",
    "print('Test t=%f p-value=%f' % (chiStats[0], chiStats[1]))"
   ]
  },
  {
   "cell_type": "code",
   "execution_count": 237,
   "id": "b1567514",
   "metadata": {},
   "outputs": [
    {
     "name": "stdout",
     "output_type": "stream",
     "text": [
      "we accept null hypothesis\n"
     ]
    }
   ],
   "source": [
    "if chiStats[1] < 0.05:\n",
    "  print('we reject null hypothesis')\n",
    "else:\n",
    "  print('we accept null hypothesis')"
   ]
  },
  {
   "cell_type": "markdown",
   "id": "e4c4b594",
   "metadata": {},
   "source": [
    "By P-Value=0.66 > 0.05 hence we accept null hypothesis"
   ]
  },
  {
   "cell_type": "code",
   "execution_count": 238,
   "id": "ac660122",
   "metadata": {},
   "outputs": [],
   "source": [
    "alpha = 0.05\n",
    "critical_value = sp.stats.chi2.ppf(q = 1 - alpha,df=chiStats[2])"
   ]
  },
  {
   "cell_type": "code",
   "execution_count": 239,
   "id": "e32d4018",
   "metadata": {},
   "outputs": [
    {
     "data": {
      "text/plain": [
       "7.814727903251179"
      ]
     },
     "execution_count": 239,
     "metadata": {},
     "output_type": "execute_result"
    }
   ],
   "source": [
    "critical_value"
   ]
  },
  {
   "cell_type": "code",
   "execution_count": 240,
   "id": "9e71c604",
   "metadata": {},
   "outputs": [
    {
     "data": {
      "text/plain": [
       "1.595945538661058"
      ]
     },
     "execution_count": 240,
     "metadata": {},
     "output_type": "execute_result"
    }
   ],
   "source": [
    "observed_chi_val = chiStats[0]\n",
    "observed_chi_val"
   ]
  },
  {
   "cell_type": "markdown",
   "id": "e360cb94",
   "metadata": {},
   "source": [
    "observed_chi_val < critical_value , \n",
    "1.59 < 7.81\n",
    "Hence, We cannot reject null hypothesis"
   ]
  },
  {
   "cell_type": "markdown",
   "id": "6552d746",
   "metadata": {},
   "source": [
    "Q.4) TeleCall uses 4 centers around the globe to process customer order forms. They audit a certain %  of the customer order forms. Any error in order form renders it defective and has to be reworked before processing.  The manager wants to check whether the defective % varies by centre. Please analyze the data at 5% significance level and help the manager draw appropriate inferences\n"
   ]
  },
  {
   "cell_type": "code",
   "execution_count": 197,
   "id": "157fef35",
   "metadata": {},
   "outputs": [
    {
     "data": {
      "text/html": [
       "<div>\n",
       "<style scoped>\n",
       "    .dataframe tbody tr th:only-of-type {\n",
       "        vertical-align: middle;\n",
       "    }\n",
       "\n",
       "    .dataframe tbody tr th {\n",
       "        vertical-align: top;\n",
       "    }\n",
       "\n",
       "    .dataframe thead th {\n",
       "        text-align: right;\n",
       "    }\n",
       "</style>\n",
       "<table border=\"1\" class=\"dataframe\">\n",
       "  <thead>\n",
       "    <tr style=\"text-align: right;\">\n",
       "      <th></th>\n",
       "      <th>Phillippines</th>\n",
       "      <th>Indonesia</th>\n",
       "      <th>Malta</th>\n",
       "      <th>India</th>\n",
       "    </tr>\n",
       "  </thead>\n",
       "  <tbody>\n",
       "    <tr>\n",
       "      <th>0</th>\n",
       "      <td>Error Free</td>\n",
       "      <td>Error Free</td>\n",
       "      <td>Defective</td>\n",
       "      <td>Error Free</td>\n",
       "    </tr>\n",
       "    <tr>\n",
       "      <th>1</th>\n",
       "      <td>Error Free</td>\n",
       "      <td>Error Free</td>\n",
       "      <td>Error Free</td>\n",
       "      <td>Defective</td>\n",
       "    </tr>\n",
       "    <tr>\n",
       "      <th>2</th>\n",
       "      <td>Error Free</td>\n",
       "      <td>Defective</td>\n",
       "      <td>Defective</td>\n",
       "      <td>Error Free</td>\n",
       "    </tr>\n",
       "    <tr>\n",
       "      <th>3</th>\n",
       "      <td>Error Free</td>\n",
       "      <td>Error Free</td>\n",
       "      <td>Error Free</td>\n",
       "      <td>Error Free</td>\n",
       "    </tr>\n",
       "    <tr>\n",
       "      <th>4</th>\n",
       "      <td>Error Free</td>\n",
       "      <td>Error Free</td>\n",
       "      <td>Defective</td>\n",
       "      <td>Error Free</td>\n",
       "    </tr>\n",
       "  </tbody>\n",
       "</table>\n",
       "</div>"
      ],
      "text/plain": [
       "  Phillippines   Indonesia       Malta       India\n",
       "0   Error Free  Error Free   Defective  Error Free\n",
       "1   Error Free  Error Free  Error Free   Defective\n",
       "2   Error Free   Defective   Defective  Error Free\n",
       "3   Error Free  Error Free  Error Free  Error Free\n",
       "4   Error Free  Error Free   Defective  Error Free"
      ]
     },
     "execution_count": 197,
     "metadata": {},
     "output_type": "execute_result"
    }
   ],
   "source": [
    "Customer = pd.read_csv('Costomer+OrderForm.csv')\n",
    "Customer.head()"
   ]
  },
  {
   "cell_type": "code",
   "execution_count": 241,
   "id": "876ad968",
   "metadata": {},
   "outputs": [
    {
     "data": {
      "text/plain": [
       "Error Free    271\n",
       "Defective      29\n",
       "Name: Phillippines, dtype: int64"
      ]
     },
     "execution_count": 241,
     "metadata": {},
     "output_type": "execute_result"
    }
   ],
   "source": [
    "Phillippines_value=Customer['Phillippines'].value_counts()\n",
    "Phillippines_value"
   ]
  },
  {
   "cell_type": "code",
   "execution_count": 242,
   "id": "24faaa1f",
   "metadata": {},
   "outputs": [
    {
     "data": {
      "text/plain": [
       "Error Free    267\n",
       "Defective      33\n",
       "Name: Indonesia, dtype: int64"
      ]
     },
     "execution_count": 242,
     "metadata": {},
     "output_type": "execute_result"
    }
   ],
   "source": [
    "Indonesia_value=Customer['Indonesia'].value_counts()\n",
    "Indonesia_value"
   ]
  },
  {
   "cell_type": "code",
   "execution_count": 243,
   "id": "4b7e6860",
   "metadata": {},
   "outputs": [
    {
     "data": {
      "text/plain": [
       "Error Free    269\n",
       "Defective      31\n",
       "Name: Malta, dtype: int64"
      ]
     },
     "execution_count": 243,
     "metadata": {},
     "output_type": "execute_result"
    }
   ],
   "source": [
    "Malta_value=Customer['Malta'].value_counts()\n",
    "Malta_value"
   ]
  },
  {
   "cell_type": "code",
   "execution_count": 244,
   "id": "39268280",
   "metadata": {},
   "outputs": [
    {
     "data": {
      "text/plain": [
       "Error Free    280\n",
       "Defective      20\n",
       "Name: India, dtype: int64"
      ]
     },
     "execution_count": 244,
     "metadata": {},
     "output_type": "execute_result"
    }
   ],
   "source": [
    "India_value=Customer['India'].value_counts()\n",
    "India_value"
   ]
  },
  {
   "cell_type": "code",
   "execution_count": 245,
   "id": "2e7805af",
   "metadata": {},
   "outputs": [
    {
     "name": "stdout",
     "output_type": "stream",
     "text": [
      "Test t=3.858961 p-value=0.277102\n"
     ]
    }
   ],
   "source": [
    "chiStats = sp.stats.chi2_contingency([[271,267,269,280],[29,33,31,20]])\n",
    "print('Test t=%f p-value=%f' % (chiStats[0], chiStats[1]))"
   ]
  },
  {
   "cell_type": "code",
   "execution_count": 246,
   "id": "35ae02ba",
   "metadata": {},
   "outputs": [
    {
     "name": "stdout",
     "output_type": "stream",
     "text": [
      "we accept null hypothesis\n"
     ]
    }
   ],
   "source": [
    "if chiStats[1] < 0.05:\n",
    "  print('we reject null hypothesis')\n",
    "else:\n",
    "  print('we accept null hypothesis')"
   ]
  },
  {
   "cell_type": "markdown",
   "id": "f9c8d9f4",
   "metadata": {},
   "source": [
    "By P-Value=0.66 > 0.05 hence we accept null hypothesis"
   ]
  },
  {
   "cell_type": "code",
   "execution_count": 247,
   "id": "0c791bb3",
   "metadata": {},
   "outputs": [],
   "source": [
    "alpha = 0.05\n",
    "critical_value = sp.stats.chi2.ppf(q = 1 - alpha,df=chiStats[2])"
   ]
  },
  {
   "cell_type": "code",
   "execution_count": 248,
   "id": "141efca4",
   "metadata": {},
   "outputs": [
    {
     "data": {
      "text/plain": [
       "7.814727903251179"
      ]
     },
     "execution_count": 248,
     "metadata": {},
     "output_type": "execute_result"
    }
   ],
   "source": [
    "critical_value"
   ]
  },
  {
   "cell_type": "code",
   "execution_count": 249,
   "id": "f310aaa2",
   "metadata": {},
   "outputs": [
    {
     "data": {
      "text/plain": [
       "3.858960685820355"
      ]
     },
     "execution_count": 249,
     "metadata": {},
     "output_type": "execute_result"
    }
   ],
   "source": [
    "observed_chi_val = chiStats[0]\n",
    "observed_chi_val"
   ]
  },
  {
   "cell_type": "markdown",
   "id": "8d6b8f9d",
   "metadata": {},
   "source": [
    "observed_chi_val < critical_value , \n",
    "3.85 < 7.81\n",
    "Hence, We cannot reject null hypothesis"
   ]
  },
  {
   "cell_type": "markdown",
   "id": "b99f083d",
   "metadata": {},
   "source": [
    "Inference is that proportion of defective % across the center is same."
   ]
  },
  {
   "cell_type": "code",
   "execution_count": null,
   "id": "2af7d414",
   "metadata": {},
   "outputs": [],
   "source": []
  }
 ],
 "metadata": {
  "kernelspec": {
   "display_name": "Python 3 (ipykernel)",
   "language": "python",
   "name": "python3"
  },
  "language_info": {
   "codemirror_mode": {
    "name": "ipython",
    "version": 3
   },
   "file_extension": ".py",
   "mimetype": "text/x-python",
   "name": "python",
   "nbconvert_exporter": "python",
   "pygments_lexer": "ipython3",
   "version": "3.9.7"
  }
 },
 "nbformat": 4,
 "nbformat_minor": 5
}
